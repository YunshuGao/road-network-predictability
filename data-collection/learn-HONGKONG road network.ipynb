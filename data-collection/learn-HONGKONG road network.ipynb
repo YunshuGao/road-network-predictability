{
 "cells": [
  {
   "cell_type": "code",
   "execution_count": 2,
   "metadata": {
    "collapsed": true
   },
   "outputs": [],
   "source": [
    "import pandas as pd\n",
    "import geopandas as gpd"
   ]
  },
  {
   "cell_type": "code",
   "execution_count": 3,
   "outputs": [],
   "source": [
    "gdf=gpd.read_file(\"https://services3.arcgis.com/6j1KwZfY2fZrfNMR/arcgis/rest/services/Street_Centre_line_in_Hong_Kong/FeatureServer/0/query?outFields=*&where=1%3D1&f=geojson\")"
   ],
   "metadata": {
    "collapsed": false
   }
  },
  {
   "cell_type": "code",
   "execution_count": 4,
   "outputs": [
    {
     "data": {
      "text/plain": "   OBJECTID  STREET_CENTRELINE_ID  STREET_CODE STREET_NAME_EN STREET_NAME_TC  \\\n0         1            1810256285        40719           None           None   \n1         2            1810256287        40928           None           None   \n2         3            1810256291        40928           None           None   \n3         4            1810250209        44884           None           None   \n4         5            1810250210        44890           None           None   \n\n   LAST_UPDATE_DATE  SHAPE__Length  \\\n0     1404172800000    1809.842726   \n1     1404172800000     193.576213   \n2     1404172800000     122.227869   \n3     1404172800000     143.321012   \n4     1404172800000     340.981599   \n\n                                            geometry  \n0  LINESTRING (114.15795 22.41126, 114.15795 22.4...  \n1  LINESTRING (114.21128 22.40696, 114.21222 22.4...  \n2  LINESTRING (114.21422 22.40579, 114.21494 22.4...  \n3  LINESTRING (114.10694 22.48169, 114.10739 22.4...  \n4  LINESTRING (114.11289 22.48212, 114.11289 22.4...  ",
      "text/html": "<div>\n<style scoped>\n    .dataframe tbody tr th:only-of-type {\n        vertical-align: middle;\n    }\n\n    .dataframe tbody tr th {\n        vertical-align: top;\n    }\n\n    .dataframe thead th {\n        text-align: right;\n    }\n</style>\n<table border=\"1\" class=\"dataframe\">\n  <thead>\n    <tr style=\"text-align: right;\">\n      <th></th>\n      <th>OBJECTID</th>\n      <th>STREET_CENTRELINE_ID</th>\n      <th>STREET_CODE</th>\n      <th>STREET_NAME_EN</th>\n      <th>STREET_NAME_TC</th>\n      <th>LAST_UPDATE_DATE</th>\n      <th>SHAPE__Length</th>\n      <th>geometry</th>\n    </tr>\n  </thead>\n  <tbody>\n    <tr>\n      <th>0</th>\n      <td>1</td>\n      <td>1810256285</td>\n      <td>40719</td>\n      <td>None</td>\n      <td>None</td>\n      <td>1404172800000</td>\n      <td>1809.842726</td>\n      <td>LINESTRING (114.15795 22.41126, 114.15795 22.4...</td>\n    </tr>\n    <tr>\n      <th>1</th>\n      <td>2</td>\n      <td>1810256287</td>\n      <td>40928</td>\n      <td>None</td>\n      <td>None</td>\n      <td>1404172800000</td>\n      <td>193.576213</td>\n      <td>LINESTRING (114.21128 22.40696, 114.21222 22.4...</td>\n    </tr>\n    <tr>\n      <th>2</th>\n      <td>3</td>\n      <td>1810256291</td>\n      <td>40928</td>\n      <td>None</td>\n      <td>None</td>\n      <td>1404172800000</td>\n      <td>122.227869</td>\n      <td>LINESTRING (114.21422 22.40579, 114.21494 22.4...</td>\n    </tr>\n    <tr>\n      <th>3</th>\n      <td>4</td>\n      <td>1810250209</td>\n      <td>44884</td>\n      <td>None</td>\n      <td>None</td>\n      <td>1404172800000</td>\n      <td>143.321012</td>\n      <td>LINESTRING (114.10694 22.48169, 114.10739 22.4...</td>\n    </tr>\n    <tr>\n      <th>4</th>\n      <td>5</td>\n      <td>1810250210</td>\n      <td>44890</td>\n      <td>None</td>\n      <td>None</td>\n      <td>1404172800000</td>\n      <td>340.981599</td>\n      <td>LINESTRING (114.11289 22.48212, 114.11289 22.4...</td>\n    </tr>\n  </tbody>\n</table>\n</div>"
     },
     "execution_count": 4,
     "metadata": {},
     "output_type": "execute_result"
    }
   ],
   "source": [
    "gdf.head(5)"
   ],
   "metadata": {
    "collapsed": false
   }
  },
  {
   "cell_type": "code",
   "execution_count": 5,
   "outputs": [],
   "source": [
    "gdf1=gpd.read_file(r'D:\\GaoYunshu2023\\100011 HK-Work\\RA-project\\HKGS_Dataset_Road-Network_2022-11-22-0800-00_fullset\\RoadNetwork.gpkg')"
   ],
   "metadata": {
    "collapsed": false
   }
  },
  {
   "cell_type": "code",
   "execution_count": 6,
   "outputs": [
    {
     "data": {
      "text/plain": "   OBJECTID  ROAD_ROUTE_ID  TIME_ZONE EFFECTIVE_DAY REMARKS  BUS_ONLY_LANE_ID  \\\n0         1           9383  0700-2400      YYYYYYYY    None                10   \n1         2           7710  0700-2400      YYYYYYYY    None                84   \n2         3         272894  0700-2400      YYYYYYNN    None            140227   \n3         4           1948  0000-2400      YYYYYYYY    None            140054   \n4         5           8528  0000-2400      YYYYYYYY    None            140175   \n\n             CRE_DATE     LAST_UPD_DATE_V  BOUND  Shape_Length  \\\n0 2009-05-08 20:00:00 2010-01-22 14:52:25      1     52.443690   \n1 2009-05-08 20:00:00 2010-01-22 15:00:50      1     48.372824   \n2 2021-05-01 15:42:35 2021-05-01 15:42:35      0     57.302638   \n3 2010-01-12 00:00:00 2010-01-22 15:12:20      0    108.718133   \n4 2010-12-06 00:00:00 2010-12-06 16:26:47      0     95.093312   \n\n                                            geometry  \n0  LINESTRING (832587.651 821939.139, 832609.480 ...  \n1  LINESTRING (832278.025 822052.685, 832326.052 ...  \n2  LINESTRING (834411.286 815779.854, 834412.428 ...  \n3  LINESTRING (838820.035 816956.704, 838825.056 ...  \n4  LINESTRING (811633.857 819450.972, 811647.959 ...  ",
      "text/html": "<div>\n<style scoped>\n    .dataframe tbody tr th:only-of-type {\n        vertical-align: middle;\n    }\n\n    .dataframe tbody tr th {\n        vertical-align: top;\n    }\n\n    .dataframe thead th {\n        text-align: right;\n    }\n</style>\n<table border=\"1\" class=\"dataframe\">\n  <thead>\n    <tr style=\"text-align: right;\">\n      <th></th>\n      <th>OBJECTID</th>\n      <th>ROAD_ROUTE_ID</th>\n      <th>TIME_ZONE</th>\n      <th>EFFECTIVE_DAY</th>\n      <th>REMARKS</th>\n      <th>BUS_ONLY_LANE_ID</th>\n      <th>CRE_DATE</th>\n      <th>LAST_UPD_DATE_V</th>\n      <th>BOUND</th>\n      <th>Shape_Length</th>\n      <th>geometry</th>\n    </tr>\n  </thead>\n  <tbody>\n    <tr>\n      <th>0</th>\n      <td>1</td>\n      <td>9383</td>\n      <td>0700-2400</td>\n      <td>YYYYYYYY</td>\n      <td>None</td>\n      <td>10</td>\n      <td>2009-05-08 20:00:00</td>\n      <td>2010-01-22 14:52:25</td>\n      <td>1</td>\n      <td>52.443690</td>\n      <td>LINESTRING (832587.651 821939.139, 832609.480 ...</td>\n    </tr>\n    <tr>\n      <th>1</th>\n      <td>2</td>\n      <td>7710</td>\n      <td>0700-2400</td>\n      <td>YYYYYYYY</td>\n      <td>None</td>\n      <td>84</td>\n      <td>2009-05-08 20:00:00</td>\n      <td>2010-01-22 15:00:50</td>\n      <td>1</td>\n      <td>48.372824</td>\n      <td>LINESTRING (832278.025 822052.685, 832326.052 ...</td>\n    </tr>\n    <tr>\n      <th>2</th>\n      <td>3</td>\n      <td>272894</td>\n      <td>0700-2400</td>\n      <td>YYYYYYNN</td>\n      <td>None</td>\n      <td>140227</td>\n      <td>2021-05-01 15:42:35</td>\n      <td>2021-05-01 15:42:35</td>\n      <td>0</td>\n      <td>57.302638</td>\n      <td>LINESTRING (834411.286 815779.854, 834412.428 ...</td>\n    </tr>\n    <tr>\n      <th>3</th>\n      <td>4</td>\n      <td>1948</td>\n      <td>0000-2400</td>\n      <td>YYYYYYYY</td>\n      <td>None</td>\n      <td>140054</td>\n      <td>2010-01-12 00:00:00</td>\n      <td>2010-01-22 15:12:20</td>\n      <td>0</td>\n      <td>108.718133</td>\n      <td>LINESTRING (838820.035 816956.704, 838825.056 ...</td>\n    </tr>\n    <tr>\n      <th>4</th>\n      <td>5</td>\n      <td>8528</td>\n      <td>0000-2400</td>\n      <td>YYYYYYYY</td>\n      <td>None</td>\n      <td>140175</td>\n      <td>2010-12-06 00:00:00</td>\n      <td>2010-12-06 16:26:47</td>\n      <td>0</td>\n      <td>95.093312</td>\n      <td>LINESTRING (811633.857 819450.972, 811647.959 ...</td>\n    </tr>\n  </tbody>\n</table>\n</div>"
     },
     "execution_count": 6,
     "metadata": {},
     "output_type": "execute_result"
    }
   ],
   "source": [
    "gdf1.head(5)"
   ],
   "metadata": {
    "collapsed": false
   }
  },
  {
   "cell_type": "code",
   "execution_count": 7,
   "outputs": [],
   "source": [
    "import networkx as nx"
   ],
   "metadata": {
    "collapsed": false
   }
  },
  {
   "cell_type": "code",
   "execution_count": 8,
   "outputs": [
    {
     "name": "stderr",
     "output_type": "stream",
     "text": [
      "C:\\Users\\GAOYUN~1\\AppData\\Local\\Temp/ipykernel_15708/4164578273.py:1: DeprecationWarning: read_shp is deprecated and will be removed in 3.0.See https://networkx.org/documentation/latest/auto_examples/index.html#geospatial.\n",
      "  G=nx.read_shp(r'D:\\GaoYunshu2023\\100011 HK-Work\\RA-project\\HKGS_Dataset_Road-Network_2022-11-22-0800-00_fullset (1)\\HKcenterline.shp')\n"
     ]
    },
    {
     "ename": "ImportError",
     "evalue": "read_shp requires OGR: http://www.gdal.org/",
     "output_type": "error",
     "traceback": [
      "\u001B[1;31m---------------------------------------------------------------------------\u001B[0m",
      "\u001B[1;31mModuleNotFoundError\u001B[0m                       Traceback (most recent call last)",
      "\u001B[1;32md:\\workspace\\python38\\lib\\site-packages\\networkx\\readwrite\\nx_shp.py\u001B[0m in \u001B[0;36mread_shp\u001B[1;34m(path, simplify, geom_attrs, strict)\u001B[0m\n\u001B[0;32m     91\u001B[0m     \u001B[1;32mtry\u001B[0m\u001B[1;33m:\u001B[0m\u001B[1;33m\u001B[0m\u001B[1;33m\u001B[0m\u001B[0m\n\u001B[1;32m---> 92\u001B[1;33m         \u001B[1;32mfrom\u001B[0m \u001B[0mosgeo\u001B[0m \u001B[1;32mimport\u001B[0m \u001B[0mogr\u001B[0m\u001B[1;33m\u001B[0m\u001B[1;33m\u001B[0m\u001B[0m\n\u001B[0m\u001B[0;32m     93\u001B[0m     \u001B[1;32mexcept\u001B[0m \u001B[0mImportError\u001B[0m \u001B[1;32mas\u001B[0m \u001B[0merr\u001B[0m\u001B[1;33m:\u001B[0m\u001B[1;33m\u001B[0m\u001B[1;33m\u001B[0m\u001B[0m\n",
      "\u001B[1;31mModuleNotFoundError\u001B[0m: No module named 'osgeo'",
      "\nThe above exception was the direct cause of the following exception:\n",
      "\u001B[1;31mImportError\u001B[0m                               Traceback (most recent call last)",
      "\u001B[1;32mC:\\Users\\GAOYUN~1\\AppData\\Local\\Temp/ipykernel_15708/4164578273.py\u001B[0m in \u001B[0;36m<module>\u001B[1;34m\u001B[0m\n\u001B[1;32m----> 1\u001B[1;33m \u001B[0mG\u001B[0m\u001B[1;33m=\u001B[0m\u001B[0mnx\u001B[0m\u001B[1;33m.\u001B[0m\u001B[0mread_shp\u001B[0m\u001B[1;33m(\u001B[0m\u001B[1;34mr'D:\\GaoYunshu2023\\100011 HK-Work\\RA-project\\HKGS_Dataset_Road-Network_2022-11-22-0800-00_fullset (1)\\HKcenterline.shp'\u001B[0m\u001B[1;33m)\u001B[0m\u001B[1;33m\u001B[0m\u001B[1;33m\u001B[0m\u001B[0m\n\u001B[0m",
      "\u001B[1;32md:\\workspace\\python38\\lib\\site-packages\\networkx\\readwrite\\nx_shp.py\u001B[0m in \u001B[0;36mread_shp\u001B[1;34m(path, simplify, geom_attrs, strict)\u001B[0m\n\u001B[0;32m     92\u001B[0m         \u001B[1;32mfrom\u001B[0m \u001B[0mosgeo\u001B[0m \u001B[1;32mimport\u001B[0m \u001B[0mogr\u001B[0m\u001B[1;33m\u001B[0m\u001B[1;33m\u001B[0m\u001B[0m\n\u001B[0;32m     93\u001B[0m     \u001B[1;32mexcept\u001B[0m \u001B[0mImportError\u001B[0m \u001B[1;32mas\u001B[0m \u001B[0merr\u001B[0m\u001B[1;33m:\u001B[0m\u001B[1;33m\u001B[0m\u001B[1;33m\u001B[0m\u001B[0m\n\u001B[1;32m---> 94\u001B[1;33m         \u001B[1;32mraise\u001B[0m \u001B[0mImportError\u001B[0m\u001B[1;33m(\u001B[0m\u001B[1;34m\"read_shp requires OGR: http://www.gdal.org/\"\u001B[0m\u001B[1;33m)\u001B[0m \u001B[1;32mfrom\u001B[0m \u001B[0merr\u001B[0m\u001B[1;33m\u001B[0m\u001B[1;33m\u001B[0m\u001B[0m\n\u001B[0m\u001B[0;32m     95\u001B[0m \u001B[1;33m\u001B[0m\u001B[0m\n\u001B[0;32m     96\u001B[0m     \u001B[1;32mif\u001B[0m \u001B[1;32mnot\u001B[0m \u001B[0misinstance\u001B[0m\u001B[1;33m(\u001B[0m\u001B[0mpath\u001B[0m\u001B[1;33m,\u001B[0m \u001B[0mstr\u001B[0m\u001B[1;33m)\u001B[0m\u001B[1;33m:\u001B[0m\u001B[1;33m\u001B[0m\u001B[1;33m\u001B[0m\u001B[0m\n",
      "\u001B[1;31mImportError\u001B[0m: read_shp requires OGR: http://www.gdal.org/"
     ]
    }
   ],
   "source": [
    "G=nx.read_shp(r'D:\\GaoYunshu2023\\100011 HK-Work\\RA-project\\HKGS_Dataset_Road-Network_2022-11-22-0800-00_fullset (1)\\HKcenterline.shp')"
   ],
   "metadata": {
    "collapsed": false
   }
  },
  {
   "cell_type": "code",
   "execution_count": null,
   "outputs": [],
   "source": [],
   "metadata": {
    "collapsed": false
   }
  }
 ],
 "metadata": {
  "kernelspec": {
   "display_name": "Python 3",
   "language": "python",
   "name": "python3"
  },
  "language_info": {
   "codemirror_mode": {
    "name": "ipython",
    "version": 2
   },
   "file_extension": ".py",
   "mimetype": "text/x-python",
   "name": "python",
   "nbconvert_exporter": "python",
   "pygments_lexer": "ipython2",
   "version": "2.7.6"
  }
 },
 "nbformat": 4,
 "nbformat_minor": 0
}
